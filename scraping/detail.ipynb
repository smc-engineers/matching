{
 "cells": [
  {
   "cell_type": "code",
   "execution_count": null,
   "metadata": {},
   "outputs": [],
   "source": [
    "import urllib3\n",
    "from bs4 import BeautifulSoup\n",
    "import certifi\n",
    "import logging"
   ]
  },
  {
   "cell_type": "code",
   "execution_count": null,
   "metadata": {},
   "outputs": [],
   "source": [
    "# ログレベルを DEBUG に変更\n",
    "formatter = '%(levelname)s : %(asctime)s : %(message)s'\n",
    "logging.basicConfig(filename='logger.log', level=logging.DEBUG, format=formatter)\n",
    "\n",
    "# 従来の出力\n",
    "logging.info('error{}'.format('outputting error'))\n",
    "logging.info('warning %s %s' % ('was', 'outputted'))\n",
    "# logging のみの書き方\n",
    "logging.info('info %s %s', 'test', 'test')"
   ]
  },
  {
   "cell_type": "code",
   "execution_count": null,
   "metadata": {},
   "outputs": [],
   "source": [
    "url_list = [\n",
    "]"
   ]
  },
  {
   "cell_type": "code",
   "execution_count": null,
   "metadata": {},
   "outputs": [],
   "source": [
    "def get_html(url):\n",
    "    print(url)\n",
    "    http = urllib3.PoolManager(\n",
    "        cert_reqs='CERT_REQUIRED',\n",
    "        ca_certs=certifi.where())\n",
    "    r = http.request('GET', url)\n",
    "    return r"
   ]
  },
  {
   "cell_type": "code",
   "execution_count": null,
   "metadata": {},
   "outputs": [],
   "source": [
    "def get_contents(obj, num):\n",
    "    return obj.contents[num] if (len(obj) > num) else ''"
   ]
  },
  {
   "cell_type": "code",
   "execution_count": null,
   "metadata": {},
   "outputs": [],
   "source": [
    "def get_string(obj):\n",
    "    return obj.string if obj is not None else ''"
   ]
  },
  {
   "cell_type": "code",
   "execution_count": null,
   "metadata": {
    "scrolled": false
   },
   "outputs": [],
   "source": [
    "def get_detail_data(html):\n",
    "    list = []\n",
    "\n",
    "    primary = soup.find(\"div\", id=\"primary\")\n",
    "    title = primary.h1.string\n",
    "    list.append(title)\n",
    "\n",
    "    sub = soup.find(\"div\", id=\"sub\")\n",
    "    sub_list = sub.find_all(\"li\")\n",
    "    for info in sub_list:\n",
    "        list.append(get_contents(info, 1))\n",
    "\n",
    "    return_list = '$'.join(list)\n",
    "    print(return_list)\n",
    "\n",
    "    return return_list"
   ]
  },
  {
   "cell_type": "code",
   "execution_count": null,
   "metadata": {
    "scrolled": true
   },
   "outputs": [],
   "source": [
    "for url in url_list:\n",
    "    try:\n",
    "        html = get_html(url)\n",
    "        soup = BeautifulSoup(html.data, 'html.parser')\n",
    "        detail_data = get_detail_data(soup)\n",
    "        \n",
    "        path_w = 'detail_data.txt'\n",
    "        with open(path_w, mode='a') as f:\n",
    "            f.write(detail_data)\n",
    "            f.write('\\n')\n",
    "            f.close()\n",
    "        \n",
    "        logging.info('Complete!: %d', i)\n",
    "    except Exception as inst:\n",
    "        logging.error(inst)"
   ]
  }
 ],
 "metadata": {
  "kernelspec": {
   "display_name": "Python 3",
   "language": "python",
   "name": "python3"
  },
  "language_info": {
   "codemirror_mode": {
    "name": "ipython",
    "version": 3
   },
   "file_extension": ".py",
   "mimetype": "text/x-python",
   "name": "python",
   "nbconvert_exporter": "python",
   "pygments_lexer": "ipython3",
   "version": "3.7.1"
  }
 },
 "nbformat": 4,
 "nbformat_minor": 2
}
