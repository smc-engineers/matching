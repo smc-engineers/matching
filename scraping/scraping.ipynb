{
 "cells": [
  {
   "cell_type": "code",
   "execution_count": 2,
   "metadata": {},
   "outputs": [],
   "source": [
    "import urllib3\n",
    "from bs4 import BeautifulSoup\n",
    "import certifi\n",
    "import logging"
   ]
  },
  {
   "cell_type": "code",
   "execution_count": 3,
   "metadata": {},
   "outputs": [],
   "source": [
    "# ログレベルを DEBUG に変更\n",
    "formatter = '%(levelname)s : %(asctime)s : %(message)s'\n",
    "logging.basicConfig(filename='logger.log', level=logging.DEBUG, format=formatter)\n",
    "\n",
    "# 従来の出力\n",
    "logging.info('error{}'.format('outputting error'))\n",
    "logging.info('warning %s %s' % ('was', 'outputted'))\n",
    "# logging のみの書き方\n",
    "logging.info('info %s %s', 'test', 'test')"
   ]
  },
  {
   "cell_type": "code",
   "execution_count": 4,
   "metadata": {},
   "outputs": [],
   "source": [
    "host = \"https://www.panamusica.co.jp\""
   ]
  },
  {
   "cell_type": "code",
   "execution_count": 5,
   "metadata": {},
   "outputs": [],
   "source": [
    "def get_page(page):\n",
    "#     url = host + \"/ja/product/genre/104/r/000/\" + page + \"/\"\n",
    "    url = page\n",
    "    print(url)\n",
    "    http = urllib3.PoolManager(\n",
    "        cert_reqs='CERT_REQUIRED',\n",
    "        ca_certs=certifi.where())\n",
    "    r = http.request('GET', url)\n",
    "    return r"
   ]
  },
  {
   "cell_type": "code",
   "execution_count": 6,
   "metadata": {},
   "outputs": [],
   "source": [
    "def get_contents(spec, num):\n",
    "    return spec.contents[num] if (len(spec) > num) else ''"
   ]
  },
  {
   "cell_type": "code",
   "execution_count": 7,
   "metadata": {},
   "outputs": [],
   "source": [
    "def get_string(obj):\n",
    "    return obj.string if obj is not None else ''"
   ]
  },
  {
   "cell_type": "code",
   "execution_count": 8,
   "metadata": {
    "scrolled": false
   },
   "outputs": [],
   "source": [
    "def output(r):\n",
    "    soup = BeautifulSoup(r.data, 'html.parser')\n",
    "    contents = soup.find(\"ol\")\n",
    "\n",
    "    song_list = contents.find_all(\"li\")\n",
    "    return_list = []\n",
    "\n",
    "    for song in song_list:\n",
    "        \n",
    "        title = song.h4.string\n",
    "        spec = song.find(\"div\", class_=\"spec\")\n",
    "        \n",
    "        composer = get_contents(spec, 3)\n",
    "        publisher = get_contents(spec, 5)\n",
    "        price = get_string(song.strong)\n",
    "        path = host + song.a.get(\"href\")\n",
    "\n",
    "    #     print(\"曲名：\" + title)\n",
    "    #     print(\"出版社：\" + publisher)\n",
    "    #     print(\"作編曲者：\" + composer)\n",
    "    #     print(\"単価（税込）：\" + price)\n",
    "    #     print(\"リンク：\" + path)\n",
    "\n",
    "        # データをリストに保持\n",
    "        list = []\n",
    "        list.append(title)\n",
    "        list.append(composer)\n",
    "        list.append(publisher)\n",
    "        list.append(price)\n",
    "        list.append(path)\n",
    "        \n",
    "        return_list.append('$'.join(list).replace(u'\\xa0', u'').replace(u'\\u3000', u''))\n",
    "        print('$'.join(list))\n",
    "        \n",
    "    return return_list"
   ]
  },
  {
   "cell_type": "code",
   "execution_count": 7,
   "metadata": {
    "scrolled": true
   },
   "outputs": [
    {
     "name": "stdout",
     "output_type": "stream",
     "text": [
      "https://www.panamusica.co.jp/ja/product/genre/104/r/000/0/\n",
      "https://www.panamusica.co.jp/ja/product/genre/104/r/000/10/\n",
      "https://www.panamusica.co.jp/ja/product/genre/104/r/000/20/\n",
      "https://www.panamusica.co.jp/ja/product/genre/104/r/000/30/\n",
      "https://www.panamusica.co.jp/ja/product/genre/104/r/000/40/\n",
      "https://www.panamusica.co.jp/ja/product/genre/104/r/000/50/\n",
      "https://www.panamusica.co.jp/ja/product/genre/104/r/000/60/\n",
      "https://www.panamusica.co.jp/ja/product/genre/104/r/000/70/\n",
      "https://www.panamusica.co.jp/ja/product/genre/104/r/000/80/\n",
      "https://www.panamusica.co.jp/ja/product/genre/104/r/000/90/\n"
     ]
    }
   ],
   "source": [
    "for i in range(10):\n",
    "    try:\n",
    "        page = i * 10\n",
    "        r = get_page(str(page))\n",
    "        output_list = output(r)\n",
    "        \n",
    "        path_w = 'list.txt'\n",
    "        with open(path_w, mode='a') as f:\n",
    "            f.write('\\n'.join(output_list))\n",
    "            f.write('\\n')\n",
    "            f.close()\n",
    "        \n",
    "        logging.info('Complete!: %d', i)\n",
    "    except Exception as inst:\n",
    "        logging.error(inst)"
   ]
  },
  {
   "cell_type": "code",
   "execution_count": 9,
   "metadata": {
    "scrolled": true
   },
   "outputs": [
    {
     "name": "stdout",
     "output_type": "stream",
     "text": [
      "https://www.panamusica.co.jp/ja/product/genre/1/r/000/1090\n",
      "¤á¤¶¤»¡ª¹ç¾§¥³¥ó¥¯¡¼¥ë<¥Ò¥Ã¥È¡¦¥½¥ó¥°ÊÔ>$ÆüÌ¾»ÒµªÂå¡¦ÀÄ»³¤·¤ª¤ê $¥É¥ì¥ß³ÚÉè½ÐÈÇ¼Ò$1,728±ß$https://www.panamusica.co.jp/ja/product/13073/\n",
      "º®À¼¹ç¾§¤Î¤¿¤á¤ÎµÜºê½Ù¥¢¥Ë¥áÌ¾¶Ê½¸¡Ö¤µ¤¯¤é¤ó¤Ü¤Î¼Â¤ëº¢¡×$»ûÅè¡¡Î¦Ìé $¥«¥ï¥¤½ÐÈÇ$2,052±ß$https://www.panamusica.co.jp/ja/product/13068/\n",
      "ÌµÈ¼ÁÕº®À¼¹ç¾§ÁÈ¶Ê­·¡Ö¥Ô¥å¥·¥¹¡×¡Ê¼õÃíÀ¸»º¡Ë$»³ËÜ¡¡½ã¥Î²ð $²»³ÚÇ·Í§¼Ò$2,171±ß$https://www.panamusica.co.jp/ja/product/13055/\n",
      "ÌµÈ¼ÁÕº®À¼¹ç¾§ÁÈ¶Ê­¶¡Ö¥Ñ¥ó¥¿¡¦¥ì¥¤¡×$»³ËÜ¡¡½ã¥Î²ð $²»³ÚÇ·Í§¼Ò$2,052±ß$https://www.panamusica.co.jp/ja/product/13054/\n",
      "º®À¼¹ç¾§¤È¥Ô¥¢¥Î¤Î¤¿¤á¤Î¡Ö¸Å»öµ­ðó²Î(¤Û¤á¤¦¤¿)¡×$ÎëÌÚ¡¡µ±¾¼ $²»³ÚÇ·Í§¼Ò$2,700±ß$https://www.panamusica.co.jp/ja/product/13047/\n",
      "º®À¼¹ç¾§¤È¥Ô¥¢¥Î¤Î¤¿¤á¤Ë¡Öµ¨Àá¤¬ËÍ¤òÏ¢¤ìµî¤Ã¤¿¤¢¤È¤Ë¡×¡Ê¼õÃíÀ¸»º¡Ë$¼ãÎÓ¡¡Àé½Õ $²»³ÚÇ·Í§¼Ò$2,354±ß$https://www.panamusica.co.jp/ja/product/12986/\n",
      "º®À¼¹ç¾§ÁÈ¶Ê¡Ö¤ê¤³¤ë¤É¡×$»³ËÜ¡¡½ã¥Î²ð $²»³ÚÇ·Í§¼Ò$1,944±ß$https://www.panamusica.co.jp/ja/product/12984/\n",
      "º®À¼¹ç¾§ÁÈ¶Ê¡Ö¤½¤ì¤ÏÂÔ¤Ã¤Æ¤¤¤ë¡ª¡×$Âç·§¡¡¿ò»Ò $²»³ÚÇ·Í§¼Ò$1,728±ß$https://www.panamusica.co.jp/ja/product/12983/\n",
      "º®À¼¹ç¾§¤È¥Ô¥¢¥Î¤Î¤¿¤á¤Î¡Ö¤¤¤Î¤Á¤ÎÌÚ¤ò¿¢¤¨¤ë¡×$ÌÚ²¼¡¡ËÒ»Ò $²»³ÚÇ·Í§¼Ò$1,944±ß$https://www.panamusica.co.jp/ja/product/12982/\n",
      "º®À¼¹ç¾§¤È¥Ô¥¢¥Î¤Î¤¿¤á¤Î¡Ö¼·¤Ä¤ÎÀ¸¤­¤ë¤¦¤¿¡×$¿·¼Â¡¡ÆÁ±Ñ $Á´²»³ÚÉè½ÐÈÇ¼Ò$1,620±ß$https://www.panamusica.co.jp/ja/product/12960/\n"
     ]
    },
    {
     "ename": "UnicodeEncodeError",
     "evalue": "'cp932' codec can't encode character '\\xa4' in position 0: illegal multibyte sequence",
     "output_type": "error",
     "traceback": [
      "\u001b[1;31m---------------------------------------------------------------------------\u001b[0m",
      "\u001b[1;31mUnicodeEncodeError\u001b[0m                        Traceback (most recent call last)",
      "\u001b[1;32m<ipython-input-9-880b9e3b7098>\u001b[0m in \u001b[0;36m<module>\u001b[1;34m\u001b[0m\n\u001b[0;32m     26\u001b[0m     \u001b[0mpath_w\u001b[0m \u001b[1;33m=\u001b[0m \u001b[1;34m'list.txt'\u001b[0m\u001b[1;33m\u001b[0m\u001b[1;33m\u001b[0m\u001b[0m\n\u001b[0;32m     27\u001b[0m     \u001b[1;32mwith\u001b[0m \u001b[0mopen\u001b[0m\u001b[1;33m(\u001b[0m\u001b[0mpath_w\u001b[0m\u001b[1;33m,\u001b[0m \u001b[0mmode\u001b[0m\u001b[1;33m=\u001b[0m\u001b[1;34m'a'\u001b[0m\u001b[1;33m)\u001b[0m \u001b[1;32mas\u001b[0m \u001b[0mf\u001b[0m\u001b[1;33m:\u001b[0m\u001b[1;33m\u001b[0m\u001b[1;33m\u001b[0m\u001b[0m\n\u001b[1;32m---> 28\u001b[1;33m         \u001b[0mf\u001b[0m\u001b[1;33m.\u001b[0m\u001b[0mwrite\u001b[0m\u001b[1;33m(\u001b[0m\u001b[1;34m'\\n'\u001b[0m\u001b[1;33m.\u001b[0m\u001b[0mjoin\u001b[0m\u001b[1;33m(\u001b[0m\u001b[0moutput_list\u001b[0m\u001b[1;33m)\u001b[0m\u001b[1;33m)\u001b[0m\u001b[1;33m\u001b[0m\u001b[1;33m\u001b[0m\u001b[0m\n\u001b[0m\u001b[0;32m     29\u001b[0m         \u001b[0mf\u001b[0m\u001b[1;33m.\u001b[0m\u001b[0mwrite\u001b[0m\u001b[1;33m(\u001b[0m\u001b[1;34m'\\n'\u001b[0m\u001b[1;33m)\u001b[0m\u001b[1;33m\u001b[0m\u001b[1;33m\u001b[0m\u001b[0m\n\u001b[0;32m     30\u001b[0m         \u001b[0mf\u001b[0m\u001b[1;33m.\u001b[0m\u001b[0mclose\u001b[0m\u001b[1;33m(\u001b[0m\u001b[1;33m)\u001b[0m\u001b[1;33m\u001b[0m\u001b[1;33m\u001b[0m\u001b[0m\n",
      "\u001b[1;31mUnicodeEncodeError\u001b[0m: 'cp932' codec can't encode character '\\xa4' in position 0: illegal multibyte sequence"
     ]
    }
   ],
   "source": [
    "url_list = [\n",
    "\"https://www.panamusica.co.jp/ja/product/genre/1/r/000/1090\",\n",
    "\"https://www.panamusica.co.jp/ja/product/genre/1/r/000/1630\",\n",
    "\"https://www.panamusica.co.jp/ja/product/genre/101/r/000/260\",\n",
    "\"https://www.panamusica.co.jp/ja/product/genre/2/r/000/40\",\n",
    "\"https://www.panamusica.co.jp/ja/product/genre/2/r/000/580\",\n",
    "\"https://www.panamusica.co.jp/ja/product/genre/2/r/000/690\",\n",
    "\"https://www.panamusica.co.jp/ja/product/genre/2/r/000/1080\",\n",
    "\"https://www.panamusica.co.jp/ja/product/genre/2/r/000/1390\",\n",
    "\"https://www.panamusica.co.jp/ja/product/genre/2/r/000/1630\",\n",
    "\"https://www.panamusica.co.jp/ja/product/genre/2/r/000/1820\",\n",
    "\"https://www.panamusica.co.jp/ja/product/genre/2/r/000/1850\"\n",
    "\n",
    "# \"https://www.panamusica.co.jp/ja/product/genre/2/r/000/320\",\n",
    "# \"https://www.panamusica.co.jp/ja/product/genre/1/r/000/230\",\n",
    "# \"https://www.panamusica.co.jp/ja/product/genre/1/r/000/240\",\n",
    "# \"https://www.panamusica.co.jp/ja/product/genre/1/r/000/620\",\n",
    "# \"https://www.panamusica.co.jp/ja/product/genre/1/r/000/780\"\n",
    "]\n",
    "\n",
    "for url in url_list:\n",
    "    # try:\n",
    "    r = get_page(url)\n",
    "    output_list = output(r)\n",
    "\n",
    "    path_w = 'list.txt'\n",
    "    with open(path_w, mode='a') as f:\n",
    "        f.write('\\n'.join(output_list))\n",
    "        f.write('\\n')\n",
    "        f.close()\n",
    "\n",
    "#     logging.info('Complete!: %d', i)\n",
    "    # except Exception as inst:\n",
    "    #     logging.error(inst)"
   ]
  },
  {
   "cell_type": "code",
   "execution_count": null,
   "metadata": {},
   "outputs": [],
   "source": []
  }
 ],
 "metadata": {
  "kernelspec": {
   "display_name": "Python 3",
   "language": "python",
   "name": "python3"
  },
  "language_info": {
   "codemirror_mode": {
    "name": "ipython",
    "version": 3
   },
   "file_extension": ".py",
   "mimetype": "text/x-python",
   "name": "python",
   "nbconvert_exporter": "python",
   "pygments_lexer": "ipython3",
   "version": "3.7.1"
  }
 },
 "nbformat": 4,
 "nbformat_minor": 2
}
