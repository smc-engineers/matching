{
 "cells": [
  {
   "cell_type": "code",
   "execution_count": null,
   "metadata": {},
   "outputs": [],
   "source": [
    "import urllib3\n",
    "from bs4 import BeautifulSoup\n",
    "import certifi\n",
    "import logging"
   ]
  },
  {
   "cell_type": "code",
   "execution_count": null,
   "metadata": {},
   "outputs": [],
   "source": [
    "# ログレベルを DEBUG に変更\n",
    "formatter = '%(levelname)s : %(asctime)s : %(message)s'\n",
    "logging.basicConfig(filename='logger.log', level=logging.DEBUG, format=formatter)\n",
    "\n",
    "# 従来の出力\n",
    "logging.info('error{}'.format('outputting error'))\n",
    "logging.info('warning %s %s' % ('was', 'outputted'))\n",
    "# logging のみの書き方\n",
    "logging.info('info %s %s', 'test', 'test')"
   ]
  },
  {
   "cell_type": "code",
   "execution_count": null,
   "metadata": {},
   "outputs": [],
   "source": [
    "host = \"http://www.panamusica.co.jp\""
   ]
  },
  {
   "cell_type": "code",
   "execution_count": null,
   "metadata": {},
   "outputs": [],
   "source": [
    "def get_page(page):\n",
    "#     url = host + \"/ja/product/genre/104/r/000/\" + page + \"/\"\n",
    "    url = page\n",
    "    print(url)\n",
    "    http = urllib3.PoolManager(\n",
    "        cert_reqs='CERT_REQUIRED',\n",
    "        ca_certs=certifi.where())\n",
    "    r = http.request('GET', url)\n",
    "    return r"
   ]
  },
  {
   "cell_type": "code",
   "execution_count": null,
   "metadata": {},
   "outputs": [],
   "source": [
    "def get_contents(spec, num):\n",
    "    return spec.contents[num] if (len(spec) > num) else ''"
   ]
  },
  {
   "cell_type": "code",
   "execution_count": null,
   "metadata": {},
   "outputs": [],
   "source": [
    "def get_string(obj):\n",
    "    return obj.string if obj is not None else ''"
   ]
  },
  {
   "cell_type": "code",
   "execution_count": null,
   "metadata": {
    "scrolled": false
   },
   "outputs": [],
   "source": [
    "def output(r):\n",
    "    soup = BeautifulSoup(r, 'html.parser')\n",
    "#     print(soup)\n",
    "    contents = soup.find(\"ol\")\n",
    "\n",
    "    song_list = contents.find_all(\"li\")\n",
    "    return_list = []\n",
    "\n",
    "    for song in song_list:\n",
    "        \n",
    "        title = song.h4.string\n",
    "        spec = song.find(\"div\", class_=\"spec\")\n",
    "        \n",
    "        composer = get_contents(spec, 3)\n",
    "        publisher = get_contents(spec, 5)\n",
    "        price = get_string(song.strong)\n",
    "        path = host + song.a.get(\"href\")\n",
    "\n",
    "    #     print(\"曲名：\" + title)\n",
    "    #     print(\"出版社：\" + publisher)\n",
    "    #     print(\"作編曲者：\" + composer)\n",
    "    #     print(\"単価（税込）：\" + price)\n",
    "    #     print(\"リンク：\" + path)\n",
    "\n",
    "        # データをリストに保持\n",
    "        list = []\n",
    "        list.append(title)\n",
    "        list.append(composer)\n",
    "        list.append(publisher)\n",
    "        list.append(price)\n",
    "        list.append(path)\n",
    "        \n",
    "        return_list.append('$'.join(list).replace(u'\\xa0', u'').replace(u'\\u3000', u''))\n",
    "        print('$'.join(list))\n",
    "        \n",
    "    return return_list"
   ]
  },
  {
   "cell_type": "code",
   "execution_count": null,
   "metadata": {
    "scrolled": false
   },
   "outputs": [],
   "source": [
    "for i in range(10):\n",
    "    try:\n",
    "        page = i * 10\n",
    "        r = get_page(str(page))\n",
    "        output_list = output(r)\n",
    "        \n",
    "        path_w = 'list.txt'\n",
    "        with open(path_w, mode='a') as f:\n",
    "            f.write('\\n'.join(output_list))\n",
    "            f.write('\\n')\n",
    "            f.close()\n",
    "        \n",
    "        logging.info('Complete!: %d', i)\n",
    "    except Exception as inst:\n",
    "        logging.error(inst)"
   ]
  }
 ],
 "metadata": {
  "kernelspec": {
   "display_name": "Python 3",
   "language": "python",
   "name": "python3"
  },
  "language_info": {
   "codemirror_mode": {
    "name": "ipython",
    "version": 3
   },
   "file_extension": ".py",
   "mimetype": "text/x-python",
   "name": "python",
   "nbconvert_exporter": "python",
   "pygments_lexer": "ipython3",
   "version": "3.7.1"
  }
 },
 "nbformat": 4,
 "nbformat_minor": 2
}
