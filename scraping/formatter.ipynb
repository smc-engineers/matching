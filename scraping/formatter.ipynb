{
 "cells": [
  {
   "cell_type": "code",
   "execution_count": null,
   "metadata": {},
   "outputs": [],
   "source": [
    "f = open('input/detail_data.txt')\n",
    "wf = open('output/formatted_detail_data.txt', mode='a')\n",
    "\n",
    "lines = f.readlines() # 1行毎にファイル終端まで全て読む(改行文字も含まれる)\n",
    "f.close()\n",
    "# lines: リスト。要素は1行の文字列データ\n",
    "for line in lines:\n",
    "    wf.write(line)"
   ]
  }
 ],
 "metadata": {
  "kernelspec": {
   "display_name": "Python 3",
   "language": "python",
   "name": "python3"
  },
  "language_info": {
   "codemirror_mode": {
    "name": "ipython",
    "version": 3
   },
   "file_extension": ".py",
   "mimetype": "text/x-python",
   "name": "python",
   "nbconvert_exporter": "python",
   "pygments_lexer": "ipython3",
   "version": "3.7.1"
  }
 },
 "nbformat": 4,
 "nbformat_minor": 2
}
